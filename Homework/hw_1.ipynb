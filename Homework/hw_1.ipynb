{
 "cells": [
  {
   "cell_type": "markdown",
   "metadata": {},
   "source": [
    "# Homework 1\n",
    "Mya Schroder\n",
    "Due: 2/8/2024"
   ]
  },
  {
   "cell_type": "markdown",
   "metadata": {},
   "source": [
    "## PROBLEM 1"
   ]
  },
  {
   "cell_type": "code",
   "execution_count": 2,
   "metadata": {},
   "outputs": [],
   "source": [
    "from sklearn import datasets\n",
    "from sklearn.model_selection import train_test_split\n",
    "import numpy as np\n",
    "import math\n",
    "import matplotlib.pyplot as plt"
   ]
  },
  {
   "cell_type": "code",
   "execution_count": 3,
   "metadata": {},
   "outputs": [],
   "source": [
    "def MSE_gradients(data:np.array, weights) -> (float, np.array):\n",
    "    \"\"\"\n",
    "    @brief      Finds MSE and gradients of the data given the weights\n",
    "    @param data      Array of tuples of any length Array of tuples [(x1, x2, ...,  y), (x1, x2, ..., y), ...]\n",
    "    \"\"\"\n",
    "\n",
    "    gradients = np.zeros(len(weights))\n",
    "    mse = 0\n",
    "    len_data = len(data)\n",
    "\n",
    "    for i in range(len_data):\n",
    "        x = data[i][:-1]\n",
    "        y = data[i][-1]\n",
    "\n",
    "        error = weights[0] + np.dot(weights[1:], x) - y\n",
    "\n",
    "        gradients[0] += 1/len_data * error \n",
    "        gradients[1:] += 1/len_data * error * x\n",
    "\n",
    "        mse += error ** 2 / (2 * len_data)\n",
    "        \n",
    "        if (math.isinf(mse)):\n",
    "            print(\"\\n!!WARNING: MSE value was too large and overflowed!!\")\n",
    "            exit()\n",
    "\n",
    "    return mse, gradients\n",
    "\n",
    "def regression(data: [(float, ...)], learning_rate=0.001, iterations=1000) -> [float, ... ]:\n",
    "    \"\"\"\n",
    "    @brief      Finds best fit line for data \n",
    "    @param data      Array of tuples of any length [(x,y, ...), (x,y, ...), ...]\n",
    "    @param learning_rate    Learning rate (de)\n",
    "    @param iterations       Number of iterations\n",
    "    \"\"\"\n",
    "    len_weights = len(data[0])\n",
    "    weights = np.zeros(len_weights)\n",
    "    mse_list = np.array([])\n",
    "\n",
    "    \n",
    "    for i in range(iterations):\n",
    "        mse, gradients = MSE_gradients(data, weights)\n",
    "        mse_list = np.append(mse_list, mse)\n",
    "\n",
    "        weights = weights - learning_rate * gradients\n",
    "\n",
    "    return mse_list, weights\n"
   ]
  },
  {
   "cell_type": "code",
   "execution_count": 4,
   "metadata": {},
   "outputs": [
    {
     "name": "stdout",
     "output_type": "stream",
     "text": [
      "Final Training RMSE: 54.866486831173255\n",
      "Test RMSE: 47.60374910869797\n"
     ]
    },
    {
     "data": {
      "image/png": "[encoded data removed]",
      "text/plain": [
       "<Figure size 640x480 with 1 Axes>"
      ]
     },
     "metadata": {},
     "output_type": "display_data"
    }
   ],
   "source": [
    "# Load Dataset\n",
    "diabetes = datasets.load_diabetes()\n",
    "\n",
    "# Split Dataset\n",
    "train_x, test_x, train_y, test_y = train_test_split(diabetes.data,diabetes.target, test_size=0.2)\n",
    "    # Original format of data x data [[x0, x1, x2, ... x9], [x0, x1, x2, ... x9]]\n",
    "    # Original Format of data y data [...]\n",
    "\n",
    "# Format train data\n",
    "train_data = np.hstack((train_x, train_y.reshape(-1, 1)))\n",
    "test_data = np.hstack((test_x, test_y.reshape(-1, 1)))\n",
    "\n",
    "# Run Regression\n",
    "mse_list, weights = regression(train_data, 0.001, 5000)\n",
    "print(\"Final Training RMSE:\", math.sqrt(mse_list[-1]))\n",
    "\n",
    "mse, _ = MSE_gradients(test_data, weights)\n",
    "print(\"Test RMSE:\", math.sqrt(mse))\n",
    "\n",
    "\n",
    "plt.plot(mse_list)\n",
    "plt.xlabel('Iteration')\n",
    "plt.ylabel('MSE')\n",
    "plt.title('Diabetes Dataset Linear Regression')\n",
    "plt.show()"
   ]
  },
  {
   "cell_type": "markdown",
   "metadata": {},
   "source": [
    "## PROBLEM 3"
   ]
  },
  {
   "cell_type": "code",
   "execution_count": 38,
   "metadata": {},
   "outputs": [],
   "source": [
    "def cross_entropy_gradients(data:np.array, weights) -> (float, np.array):\n",
    "    \"\"\"\n",
    "    @brief      Finds Cross Entropy Error and gradients of the data given the weights\n",
    "    @param data      Array of tuples of any length Array of tuples [(x1, x2, ...,  y), (x1, x2, ..., y), ...]\n",
    "    \"\"\"\n",
    "\n",
    "    gradients = np.zeros(len(weights))\n",
    "    total_error = 0\n",
    "    len_data = len(data)\n",
    "    epsilon = 1e-10 # prevents taking log of 0 (Used ChatGPT to diagnose issue)\n",
    "\n",
    "    for i in range(len_data):\n",
    "        x = data[i][:-1]\n",
    "        y = data[i][-1]\n",
    "\n",
    "        y_hat = 1 / (1 + math.e ** -(weights[0] + np.dot(weights[1:], x)))\n",
    "\n",
    "\n",
    "        # Cross Entropy Error\n",
    "        error = -y * math.log(y_hat + epsilon, 10) - (1 - y) * math.log(1-y_hat + epsilon, 10)  \n",
    "\n",
    "        # Derivatives of Cross Entropy Loss over len_data\n",
    "        gradients[0] += 1/len_data * (y_hat - y) \n",
    "        gradients[1:] += 1/len_data * (y_hat - y)  * x\n",
    "\n",
    "        total_error += error / len_data\n",
    "        \n",
    "        if (math.isinf(total_error)):\n",
    "            print(\"\\n!!WARNING: Total error value was too large and overflowed!!\")\n",
    "            exit()\n",
    "\n",
    "    return total_error, gradients\n",
    "\n",
    "\n",
    "\n",
    "def regression(data: [(float, ...)], learning_rate=0.001, iterations=1000) -> [float, ... ]:\n",
    "    \"\"\"\n",
    "    @brief      Finds best fit line for data \n",
    "    @param data      Array of tuples of any length [(x,y, ...), (x,y, ...), ...]\n",
    "    @param learning_rate    Learning rate (de)\n",
    "    @param iterations       Number of iterations\n",
    "    \"\"\"\n",
    "    len_weights = len(data[0])\n",
    "    weights = np.zeros(len_weights)\n",
    "\n",
    "    \n",
    "    for i in range(iterations):\n",
    "        \n",
    "        total_error, gradients = cross_entropy_gradients(data, weights)\n",
    "\n",
    "        weights = weights - learning_rate * gradients\n",
    "\n",
    "    return total_error, weights"
   ]
  },
  {
   "cell_type": "code",
   "execution_count": 39,
   "metadata": {},
   "outputs": [
    {
     "name": "stdout",
     "output_type": "stream",
     "text": [
      "Number of benign (1) training samples: 357\n",
      "Number of training (0) training samples: 1\n",
      "Number of benign (1) testing samples: 357\n",
      "Number of training (0) testing samples: 10\n",
      "\n",
      "Final Training Accuracy: -0.000000\n",
      "Test Accuracy: 0.245232\n"
     ]
    }
   ],
   "source": [
    "# With skewed data\n",
    "# Load data\n",
    "bc = datasets.load_breast_cancer()\n",
    "X = bc.data\n",
    "y = bc.target\n",
    "\n",
    "X_train = np.vstack((X[y == 1], X[y == 0][:1]))\n",
    "y_train = np.hstack((y[y == 1], y[y == 0][:1]))\n",
    "X_test = np.vstack((X[y == 1], X[y == 0][:10]))\n",
    "y_test = np.hstack((y[y == 1], y[y == 0][:10]))\n",
    "\n",
    "print(\"Number of benign (1) training samples:\", np.sum(y_train == 1))\n",
    "print(\"Number of training (0) training samples:\", np.sum(y_train == 0))\n",
    "print(\"Number of benign (1) testing samples:\", np.sum(y_test == 1))\n",
    "print(\"Number of training (0) testing samples:\", np.sum(y_test == 0))\n",
    "\n",
    "# Format train data\n",
    "train_data = np.hstack((X_train, y_train.reshape(-1, 1)))\n",
    "test_data = np.hstack((X_test, y_test.reshape(-1, 1)))\n",
    "\n",
    "final_error, weights = regression(train_data, 0.01, 1000)\n",
    "\n",
    "print(f'\\nFinal Training Accuracy: {final_error:.6f}')\n",
    "test_error, _ = cross_entropy_gradients(test_data, weights)\n",
    "print(f'Test Accuracy: {test_error:.6f}')\n",
    "\n",
    "\n"
   ]
  },
  {
   "cell_type": "code",
   "execution_count": 41,
   "metadata": {},
   "outputs": [
    {
     "name": "stdout",
     "output_type": "stream",
     "text": [
      "Number of benign (1) training samples: 278\n",
      "Number of training (0) training samples: 177\n",
      "Number of benign (1) testing samples: 79\n",
      "Number of training (0) testing samples: 35\n"
     ]
    },
    {
     "name": "stderr",
     "output_type": "stream",
     "text": [
      "/var/folders/pf/bh30_19d3qd8ptrbb2y_wn000000gp/T/ipykernel_35800/4225532375.py:16: RuntimeWarning: overflow encountered in scalar power\n",
      "  y_hat = 1 / (1 + math.e ** -(weights[0] + np.dot(weights[1:], x)))\n"
     ]
    },
    {
     "name": "stdout",
     "output_type": "stream",
     "text": [
      "\n",
      "Final Training Accuracy: 0.901099\n",
      "Test Accuracy: 0.789474\n"
     ]
    }
   ],
   "source": [
    "# Without skewed Data\n",
    "\n",
    "# Load data\n",
    "bc = datasets.load_breast_cancer()\n",
    "\n",
    "X_train, X_test, y_train, y_test = train_test_split(bc.data, bc.target, test_size=0.2)\n",
    "\n",
    "print(\"Number of benign (1) training samples:\", np.sum(y_train == 1))\n",
    "print(\"Number of training (0) training samples:\", np.sum(y_train == 0))\n",
    "print(\"Number of benign (1) testing samples:\", np.sum(y_test == 1))\n",
    "print(\"Number of training (0) testing samples:\", np.sum(y_test == 0))\n",
    "\n",
    "# Format train data\n",
    "train_data = np.hstack((X_train, y_train.reshape(-1, 1)))\n",
    "test_data = np.hstack((X_test, y_test.reshape(-1, 1)))\n",
    "\n",
    "final_error, weights = regression(train_data, 0.5, 1000)\n",
    "\n",
    "print(f'\\nFinal Training Accuracy: {final_error:.6f}')\n",
    "test_error, _ = cross_entropy_gradients(test_data, weights)\n",
    "print(f'Test Accuracy: {test_error:.6f}')"
   ]
  },
  {
   "cell_type": "code",
   "execution_count": 42,
   "metadata": {},
   "outputs": [
    {
     "name": "stdout",
     "output_type": "stream",
     "text": [
      "Number of benign (1) training samples: 357\n",
      "Number of training (0) training samples: 1\n",
      "Number of benign (1) testing samples: 357\n",
      "Number of training (0) testing samples: 10\n",
      "Test Accuracy: 0.980926\n"
     ]
    }
   ],
   "source": [
    "#Sklearn implementation\n",
    "from sklearn.linear_model import LogisticRegression\n",
    "from sklearn.metrics import  accuracy_score\n",
    "\n",
    "# Load data\n",
    "bc = datasets.load_breast_cancer()\n",
    "\n",
    "#X_train, X_test, y_train, y_test = train_test_split(bc.data, bc.target, test_size=0.2)\n",
    "\n",
    "X = bc.data\n",
    "y = bc.target\n",
    "\n",
    "X_train = np.vstack((X[y == 1], X[y == 0][:1]))\n",
    "y_train = np.hstack((y[y == 1], y[y == 0][:1]))\n",
    "X_test = np.vstack((X[y == 1], X[y == 0][:10]))\n",
    "y_test = np.hstack((y[y == 1], y[y == 0][:10]))\n",
    "\n",
    "print(\"Number of benign (1) training samples:\", np.sum(y_train == 1))\n",
    "print(\"Number of training (0) training samples:\", np.sum(y_train == 0))\n",
    "print(\"Number of benign (1) testing samples:\", np.sum(y_test == 1))\n",
    "print(\"Number of training (0) testing samples:\", np.sum(y_test == 0))\n",
    "\n",
    "# Format train data\n",
    "\n",
    "classifier=LogisticRegression().fit(X_train, y_train)\n",
    "y_pred = classifier.predict(X_test)\n",
    "accuracy =accuracy_score(y_test, y_pred)\n",
    "\n",
    "print(f'Test Accuracy: {accuracy:.6f}')"
   ]
  }
 ],
 "metadata": {
  "kernelspec": {
   "display_name": "Python 3",
   "language": "python",
   "name": "python3"
  },
  "language_info": {
   "codemirror_mode": {
    "name": "ipython",
    "version": 3
   },
   "file_extension": ".py",
   "mimetype": "text/x-python",
   "name": "python",
   "nbconvert_exporter": "python",
   "pygments_lexer": "ipython3",
   "version": "3.11.2"
  }
 },
 "nbformat": 4,
 "nbformat_minor": 2
}
