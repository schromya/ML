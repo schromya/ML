{
  "cells": [
    {
      "cell_type": "code",
      "execution_count": 1,
      "metadata": {
        "id": "H5mYaHxzwAIX"
      },
      "outputs": [],
      "source": [
        "def costFunction(x, y, theta0, theta1,theta2):\n",
        "   \n",
        "    n = len(x)\n",
        "    tCost = 0\n",
        "    \n",
        "    for i in range(n):\n",
        "        yhat = theta2 * x[1,i]+theta1 * x[0,i] + theta0\n",
        "        tCost = tCost + (yhat - y[i])**2\n",
        "    cost = 1 / (2 * n) * tCost\n",
        "\n",
        "    return cost"
      ]
    },
    {
      "cell_type": "code",
      "execution_count": 1,
      "metadata": {
        "colab": {
          "base_uri": "https://localhost:8080/",
          "height": 314
        },
        "id": "MUCAOW1jwCjI",
        "outputId": "62b04e89-5e3a-4f07-fcf9-b7bdb5306709"
      },
      "outputs": [
        {
          "ename": "NameError",
          "evalue": "name 'costFunction' is not defined",
          "output_type": "error",
          "traceback": [
            "\u001b[0;31m---------------------------------------------------------------------------\u001b[0m",
            "\u001b[0;31mNameError\u001b[0m                                 Traceback (most recent call last)",
            "Cell \u001b[0;32mIn[1], line 40\u001b[0m\n\u001b[1;32m     38\u001b[0m t1Grad \u001b[38;5;241m=\u001b[39m t1Grad \u001b[38;5;241m/\u001b[39m N  \n\u001b[1;32m     39\u001b[0m t2Grad \u001b[38;5;241m=\u001b[39m t2Grad \u001b[38;5;241m/\u001b[39m N  \n\u001b[0;32m---> 40\u001b[0m errs\u001b[38;5;241m.\u001b[39mappend(\u001b[43mcostFunction\u001b[49m(X_train, Y_train, theta0, theta1,theta2))\n\u001b[1;32m     41\u001b[0m theta0 \u001b[38;5;241m=\u001b[39m theta0 \u001b[38;5;241m-\u001b[39m eta \u001b[38;5;241m*\u001b[39m t0Grad                            \n\u001b[1;32m     42\u001b[0m theta1 \u001b[38;5;241m=\u001b[39m theta1 \u001b[38;5;241m-\u001b[39m eta \u001b[38;5;241m*\u001b[39m t1Grad   \n",
            "\u001b[0;31mNameError\u001b[0m: name 'costFunction' is not defined"
          ]
        }
      ],
      "source": [
        "import numpy as np\n",
        "from scipy import sparse\n",
        "import matplotlib.pyplot as plt\n",
        "import pandas as pd\n",
        "\n",
        "\n",
        "X_train = np.array([[8.6,9.6,3.6,9.6,7.6,2.6,4.6,6.6,9.6,9.6],[20,58,29,42,20,47,26,50,52,55]])\n",
        "#X_train[:,0] *= 1000\n",
        "\n",
        "X_train[0,:] =(X_train[0,:]-np.mean(X_train[0,:]))/(np.max(X_train[0,:])-np.min(X_train[0,:]))\n",
        "X_train[1,:] =(X_train[1,:]-np.mean(X_train[1,:]))/(np.max(X_train[1,:])-np.min(X_train[1,:]))\n",
        "\n",
        "Y_train = np.array([33.694,40.314,22.484,38.554,31.254,22.024,24.594,32.114,39.654,39.984])\n",
        "\n",
        "N=10\n",
        "\n",
        "#Initializations\n",
        "#Initializations\n",
        "theta0 = 0\n",
        "theta1 = 0\n",
        "theta2 = 0\n",
        "iter=50000\n",
        "errs = []\n",
        "eta=0.001\n",
        "\n",
        "for j in range(iter):\n",
        "  \n",
        "  t0Grad=0\n",
        "  t1Grad=0\n",
        "  t2Grad=0\n",
        "  for i in range(N):  \n",
        "    yhat = theta2 * X_train[1,i]+theta1 * X_train[0,i] + theta0 \n",
        "    t0Grad= t0Grad+ (yhat-Y_train[i])\n",
        "    t1Grad= t1Grad+ (yhat-Y_train[i])*X_train[0,i]\n",
        "    t2Grad= t2Grad+ (yhat-Y_train[i])*X_train[1,i]\n",
        "         \n",
        "  t0Grad = t0Grad / N \n",
        "  t1Grad = t1Grad / N  \n",
        "  t2Grad = t2Grad / N  \n",
        "  errs.append(costFunction(X_train, Y_train, theta0, theta1,theta2))\n",
        "  theta0 = theta0 - eta * t0Grad                            \n",
        "  theta1 = theta1 - eta * t1Grad   \n",
        "  theta2 = theta2 - eta * t2Grad       \n",
        "     \n",
        "print(theta0)\n",
        "print(theta1)\n",
        "print(theta2)\n",
        "\n",
        "\n",
        "\n",
        "plt.plot(errs)\n",
        "\n",
        "plt.show()"
      ]
    },
    {
      "cell_type": "code",
      "execution_count": 4,
      "metadata": {
        "id": "rN4k1ZgnJM67"
      },
      "outputs": [],
      "source": [
        "def costFunction(x, y, theta0, thetas):\n",
        "   \n",
        "    n = len(x)\n",
        "    tCost = 0\n",
        "    \n",
        "    for i in range(n):\n",
        "        yhat = np.dot(thetas, x) + theta0\n",
        "        tCost = tCost + (yhat - y[i])**2\n",
        "    cost = 1 / (2 * n) * tCost\n",
        "\n",
        "    return cost"
      ]
    },
    {
      "cell_type": "code",
      "execution_count": 5,
      "metadata": {
        "colab": {
          "base_uri": "https://localhost:8080/",
          "height": 297
        },
        "id": "CqvDz8fqG5sy",
        "outputId": "a971a058-04e5-4502-cb3f-bcb72d7f9f53"
      },
      "outputs": [
        {
          "name": "stdout",
          "output_type": "stream",
          "text": [
            "[32.467 32.467 32.467 32.467 32.467 32.467 32.467 32.467 32.467 32.467]\n",
            "[0. 0.]\n"
          ]
        },
        {
          "data": {
            "image/png": "[encoded data removed]",
            "text/plain": [
              "<Figure size 640x480 with 1 Axes>"
            ]
          },
          "metadata": {},
          "output_type": "display_data"
        }
      ],
      "source": [
        "import numpy as np\n",
        "from scipy import sparse\n",
        "import matplotlib.pyplot as plt\n",
        "import pandas as pd\n",
        "\n",
        "\n",
        "X_train = np.array([[8.6,9.6,3.6,9.6,7.6,2.6,4.6,6.6,9.6,9.6],[20,58,29,42,20,47,26,50,52,55]])\n",
        "#X_train[:,0] *= 1000\n",
        "\n",
        "#X_train[0,:] =(X_train[0,:]-np.mean(X_train[0,:]))/(np.max(X_train[0,:])-np.min(X_train[0,:]))\n",
        "#X_train[1,:] =(X_train[1,:]-np.mean(X_train[1,:]))/(np.max(X_train[1,:])-np.min(X_train[1,:]))\n",
        "\n",
        "Y_train = np.array([33.694,40.314,22.484,38.554,31.254,22.024,24.594,32.114,39.654,39.984])\n",
        "\n",
        "N=10\n",
        "numFeatures=2\n",
        "#Initializations\n",
        "#Initializations\n",
        "theta0=0\n",
        "thetas=np.zeros(2)\n",
        "iter=50000\n",
        "errs = []\n",
        "eta=0.001\n",
        "\n",
        "for j in range(iter):\n",
        "  t0Grad=0\n",
        "  tGrads=np.zeros(2)\n",
        "  \n",
        "  for i in range(N):  \n",
        "    yhat = np.dot(thetas, X_train) + theta0 \n",
        "    t0Grad= t0Grad+ (yhat-Y_train[i])\n",
        "    for k in range(numFeatures):\n",
        "      tGrads[k]= tGrads[k]/ N\n",
        "  \n",
        "         \n",
        "  t0Grad = t0Grad / N \n",
        "  tGrads = tGrads / N  \n",
        " \n",
        "  errs.append(costFunction(X_train, Y_train, theta0, thetas))\n",
        "  theta0 = theta0 - eta * t0Grad   \n",
        "  \n",
        "  for k in range(numFeatures):\n",
        "      thetas[k] = thetas[k] - eta * tGrads[k]                    \n",
        "  \n",
        "\n",
        "     \n",
        "     \n",
        "print(theta0)\n",
        "print(thetas)\n",
        "\n",
        "\n",
        "\n",
        "\n",
        "plt.plot(errs)\n",
        "\n",
        "plt.show()"
      ]
    }
  ],
  "metadata": {
    "colab": {
      "provenance": []
    },
    "kernelspec": {
      "display_name": "Python 3",
      "name": "python3"
    },
    "language_info": {
      "codemirror_mode": {
        "name": "ipython",
        "version": 3
      },
      "file_extension": ".py",
      "mimetype": "text/x-python",
      "name": "python",
      "nbconvert_exporter": "python",
      "pygments_lexer": "ipython3",
      "version": "3.11.2"
    }
  },
  "nbformat": 4,
  "nbformat_minor": 0
}
