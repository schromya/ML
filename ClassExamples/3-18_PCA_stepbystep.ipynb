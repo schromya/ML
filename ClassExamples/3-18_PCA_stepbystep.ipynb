{
  "cells": [
    {
      "cell_type": "code",
      "execution_count": 5,
      "metadata": {
        "colab": {
          "base_uri": "https://localhost:8080/"
        },
        "id": "o1GYe9VkqMPz",
        "outputId": "2ffe161d-35b3-4732-b12f-825e49edcd4e"
      },
      "outputs": [
        {
          "name": "stdout",
          "output_type": "stream",
          "text": [
            "4.0\n",
            "5.8\n"
          ]
        }
      ],
      "source": [
        "X1 = [2, 3, 4, 5, 6]\n",
        "X2 = [3, 5, 6, 7, 8]\n",
        "meanX1=sum(X1) / len(X1)\n",
        "meanX2=sum(X2) / len(X2)\n",
        "print(meanX1)\n",
        "print(meanX2)"
      ]
    },
    {
      "cell_type": "code",
      "execution_count": 6,
      "metadata": {
        "colab": {
          "base_uri": "https://localhost:8080/"
        },
        "id": "brv-5VzZqULc",
        "outputId": "9af27725-f6bd-4e9a-8593-ff335577b558"
      },
      "outputs": [
        {
          "name": "stdout",
          "output_type": "stream",
          "text": [
            "1.4142135623730951\n",
            "1.7204650534085253\n"
          ]
        }
      ],
      "source": [
        "import numpy as np\n",
        "deviations = [(x - meanX1) ** 2 for x in X1]\n",
        "variance = sum(deviations) / 5\n",
        "stdX1=np.sqrt(variance)\n",
        "\n",
        "deviations = [(x - meanX2) ** 2 for x in X2]\n",
        "variance = sum(deviations) / 5\n",
        "stdX2=np.sqrt(variance)\n",
        "\n",
        "print(stdX1)\n",
        "print(stdX2)"
      ]
    },
    {
      "cell_type": "code",
      "execution_count": 7,
      "metadata": {
        "colab": {
          "base_uri": "https://localhost:8080/"
        },
        "id": "mS1fMCtprel4",
        "outputId": "1608e26c-4005-41ff-bcb8-9a62f123bc71"
      },
      "outputs": [
        {
          "name": "stdout",
          "output_type": "stream",
          "text": [
            "[-1.41421356 -0.70710678  0.          0.70710678  1.41421356]\n",
            "[-1.62746694 -0.46499055  0.11624764  0.69748583  1.27872403]\n"
          ]
        }
      ],
      "source": [
        "scaledX1= [(x-meanX1) for x in X1]/stdX1\n",
        "scaledX2= [(x-meanX2) for x in X2]/stdX2\n",
        "\n",
        "print(scaledX1)\n",
        "print(scaledX2)"
      ]
    },
    {
      "cell_type": "code",
      "execution_count": 8,
      "metadata": {
        "colab": {
          "base_uri": "https://localhost:8080/"
        },
        "id": "_D0lyxpZvpfR",
        "outputId": "72d1aa71-4f13-4a50-86c1-a3454ff8c0c2"
      },
      "outputs": [
        {
          "name": "stdout",
          "output_type": "stream",
          "text": [
            "0.0\n",
            "1.0\n"
          ]
        }
      ],
      "source": [
        "print(np.round(np.mean(scaledX1),2))\n",
        "print(np.round(np.std(scaledX1),2))"
      ]
    },
    {
      "cell_type": "code",
      "execution_count": 9,
      "metadata": {
        "colab": {
          "base_uri": "https://localhost:8080/"
        },
        "id": "PCP98G3qv3Ao",
        "outputId": "f5869965-01c7-4676-b681-4acbbd6f29d3"
      },
      "outputs": [
        {
          "name": "stdout",
          "output_type": "stream",
          "text": [
            "0.0\n",
            "1.0\n"
          ]
        }
      ],
      "source": [
        "print(np.round(np.mean(scaledX2),2))\n",
        "print(np.round(np.std(scaledX2),2))"
      ]
    },
    {
      "cell_type": "code",
      "execution_count": 10,
      "metadata": {
        "colab": {
          "base_uri": "https://localhost:8080/"
        },
        "id": "AA41cXhPYHux",
        "outputId": "96c7d2e0-0fb6-4249-fb17-786c50bc30ba"
      },
      "outputs": [
        {
          "name": "stdout",
          "output_type": "stream",
          "text": [
            "Covariance matrix: \n",
            "[[1.         0.98639392]\n",
            " [0.98639392 1.        ]]\n"
          ]
        }
      ],
      "source": [
        "import numpy as np\n",
        "\n",
        "meanX1 = np.mean(scaledX1)\n",
        "meanX2 = np.mean(scaledX2)\n",
        "\n",
        "covariance = sum([(scaledX1[i] - meanX1) * (scaledX2[i] - meanX2) for i in range(len(X1))]) / len(X1)\n",
        "\n",
        "cov_matrix = np.array([[np.var(scaledX1), covariance],\n",
        "                       [covariance, np.var(scaledX2)]])\n",
        "\n",
        "print(\"Covariance matrix: \")\n",
        "print(cov_matrix)\n"
      ]
    },
    {
      "cell_type": "code",
      "execution_count": 16,
      "metadata": {
        "colab": {
          "base_uri": "https://localhost:8080/"
        },
        "id": "CBOZEpkvfPG-",
        "outputId": "06c91e9b-4fb1-4c3a-f596-788d02dd2998"
      },
      "outputs": [
        {
          "name": "stdout",
          "output_type": "stream",
          "text": [
            "b: -1.9999999999999998\n",
            "c: 0.027027027027026754\n",
            "Eigenvalues: 1.9863939238321437 0.01360607616785614\n"
          ]
        }
      ],
      "source": [
        "a = 1\n",
        "b = -np.trace(cov_matrix)\n",
        "c = np.linalg.det(cov_matrix)\n",
        "print(\"b:\", b)\n",
        "print(\"c:\", c)\n",
        "discriminant = np.sqrt(b**2 - 4*a*c)\n",
        "lambda1 = (-b + discriminant) / (2*a)\n",
        "lambda2 = (-b - discriminant) / (2*a)\n",
        "\n",
        "# Print the eigenvalues\n",
        "print(\"Eigenvalues:\", lambda1, lambda2)\n"
      ]
    },
    {
      "cell_type": "code",
      "execution_count": 12,
      "metadata": {
        "colab": {
          "base_uri": "https://localhost:8080/"
        },
        "id": "wM4WMpv3jwjo",
        "outputId": "b309698b-5b8b-4f56-8849-c8862f21f5a5"
      },
      "outputs": [
        {
          "name": "stdout",
          "output_type": "stream",
          "text": [
            "Eigenvectors:\n",
            "[0.70710678 0.70710678]\n",
            "[ 0.70710678 -0.70710678]\n"
          ]
        }
      ],
      "source": [
        "# Calculate the eigenvectors from the eigenvalues\n",
        "eigenvector1 = np.array([lambda1 - np.var(scaledX2), covariance])\n",
        "eigenvector2 = np.array([covariance, lambda2 - np.var(scaledX1)])\n",
        "\n",
        "\n",
        "eigenvector1 = eigenvector1 / np.linalg.norm(eigenvector1)\n",
        "eigenvector2 = eigenvector2 / np.linalg.norm(eigenvector2)\n",
        "\n",
        "\n",
        "print(\"Eigenvectors:\")\n",
        "print(eigenvector1)\n",
        "print(eigenvector2)\n"
      ]
    },
    {
      "cell_type": "code",
      "execution_count": 13,
      "metadata": {
        "colab": {
          "base_uri": "https://localhost:8080/"
        },
        "id": "yolVg6aMlfds",
        "outputId": "905cddf0-cc70-449d-acab-a4ba9e6c4ed6"
      },
      "outputs": [
        {
          "name": "stdout",
          "output_type": "stream",
          "text": [
            "Projected Data:\n",
            " [[ 2.15079291]\n",
            " [ 0.82879797]\n",
            " [-0.08219949]\n",
            " [-0.99319696]\n",
            " [-1.90419443]]\n"
          ]
        }
      ],
      "source": [
        "eigenvalues, eigenvectors = np.linalg.eig(cov_matrix)\n",
        "# Sort the eigenvalues and eigenvectors in descending order\n",
        "idx = eigenvalues.argsort()[::-1]\n",
        "eigenvalues = eigenvalues[idx]\n",
        "eigenvectors = eigenvectors[:, idx]\n",
        "projection_matrix = eigenvectors[:, 0].reshape(-1, 1)\n",
        "data_matrix = np.array([scaledX1, scaledX2]).T\n",
        "projected_data = np.dot(data_matrix, projection_matrix)\n",
        "print(\"Projected Data:\\n\", projected_data)\n"
      ]
    },
    {
      "cell_type": "code",
      "execution_count": 14,
      "metadata": {
        "colab": {
          "base_uri": "https://localhost:8080/"
        },
        "id": "OTghNmxYfXGb",
        "outputId": "9f8179b5-ce06-4938-9803-a74aba0faeca"
      },
      "outputs": [
        {
          "data": {
            "text/plain": [
              "array([[ 2.15079291],\n",
              "       [ 0.82879797],\n",
              "       [-0.08219949],\n",
              "       [-0.99319696],\n",
              "       [-1.90419443]])"
            ]
          },
          "execution_count": 14,
          "metadata": {},
          "output_type": "execute_result"
        }
      ],
      "source": [
        "from sklearn.decomposition import PCA\n",
        "\n",
        "\n",
        "data_matrix = np.array([scaledX1, scaledX2]).T\n",
        "\n",
        "pca = PCA(n_components=1)\n",
        "\n",
        "pca_transformed_data = pca.fit_transform(data_matrix)\n",
        "\n",
        "\n",
        "pca_transformed_data\n"
      ]
    }
  ],
  "metadata": {
    "colab": {
      "provenance": []
    },
    "kernelspec": {
      "display_name": "Python 3",
      "name": "python3"
    },
    "language_info": {
      "codemirror_mode": {
        "name": "ipython",
        "version": 3
      },
      "file_extension": ".py",
      "mimetype": "text/x-python",
      "name": "python",
      "nbconvert_exporter": "python",
      "pygments_lexer": "ipython3",
      "version": "3.11.2"
    }
  },
  "nbformat": 4,
  "nbformat_minor": 0
}
