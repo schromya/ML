{
  "cells": [
    {
      "cell_type": "code",
      "execution_count": 1,
      "metadata": {
        "id": "TALQkhrRgHPm"
      },
      "outputs": [
        {
          "name": "stderr",
          "output_type": "stream",
          "text": [
            "2024-02-07 11:12:23.291521: I tensorflow/core/platform/cpu_feature_guard.cc:182] This TensorFlow binary is optimized to use available CPU instructions in performance-critical operations.\n",
            "To enable the following instructions: AVX2 FMA, in other operations, rebuild TensorFlow with the appropriate compiler flags.\n"
          ]
        }
      ],
      "source": [
        "import numpy as np\n",
        "import pandas as pd\n",
        "import matplotlib.pyplot as plt\n",
        "from keras.models import Sequential\n",
        "from keras.layers import Dense\n",
        "from sklearn.preprocessing import StandardScaler\n",
        "from sklearn.metrics import mean_squared_error, r2_score\n",
        "from sklearn.model_selection import train_test_split"
      ]
    },
    {
      "cell_type": "code",
      "execution_count": 7,
      "metadata": {
        "colab": {
          "base_uri": "https://localhost:8080/"
        },
        "id": "3KGMMI5vjcBt",
        "outputId": "c9530570-aaba-413b-bbd3-bbfb0916003c"
      },
      "outputs": [
        {
          "name": "stdout",
          "output_type": "stream",
          "text": [
            "      AT      V       AP     RH      PE\n",
            "0  14.96  41.76  1024.07  73.17  463.26\n",
            "1  25.18  62.96  1020.04  59.08  444.37\n",
            "2   5.11  39.40  1012.16  92.14  488.56\n",
            "3  20.86  57.32  1010.24  76.64  446.48\n",
            "4  10.82  37.50  1009.23  96.62  473.90\n"
          ]
        }
      ],
      "source": [
        "import urllib.request\n",
        "import zipfile\n",
        "\n",
        "url = 'https://archive.ics.uci.edu/ml/machine-learning-databases/00294/CCPP.zip'\n",
        "filename = 'CCPP.zip'\n",
        "urllib.request.urlretrieve(url, filename)\n",
        "\n",
        "with zipfile.ZipFile(filename, 'r') as zip:\n",
        "    zip.extract('CCPP/Folds5x2_pp.xlsx')\n",
        "data = pd.read_excel('CCPP/Folds5x2_pp.xlsx')\n",
        "print(data.head(5))"
      ]
    },
    {
      "cell_type": "code",
      "execution_count": 8,
      "metadata": {
        "id": "i9CPmy1zjnZD"
      },
      "outputs": [],
      "source": [
        "X = data.drop(['PE'], axis=1)\n",
        "y = data['PE']\n",
        "scaler = StandardScaler()\n",
        "X = scaler.fit_transform(X)"
      ]
    },
    {
      "cell_type": "code",
      "execution_count": 9,
      "metadata": {
        "id": "FAA97NQVGUgu"
      },
      "outputs": [],
      "source": [
        "X_train, X_test, y_train, y_test = train_test_split(X, y, test_size=0.2, random_state=1)"
      ]
    },
    {
      "cell_type": "code",
      "execution_count": 20,
      "metadata": {
        "id": "bUn9UULKkvR-"
      },
      "outputs": [],
      "source": [
        "model = Sequential()\n",
        "model.add(Dense(60, input_dim=X.shape[1], activation='sigmoid'))\n",
        "model.add(Dense(60, input_dim=X.shape[1], activation='sigmoid'))\n",
        "model.add(Dense(1, activation='linear'))\n",
        "model.compile(loss='mean_squared_error', optimizer='sgd')\n"
      ]
    },
    {
      "cell_type": "code",
      "execution_count": 11,
      "metadata": {
        "colab": {
          "base_uri": "https://localhost:8080/"
        },
        "id": "vR1QZCEZlFbr",
        "outputId": "ce5300c0-77aa-47fc-8d1d-91abac887fcb"
      },
      "outputs": [
        {
          "name": "stdout",
          "output_type": "stream",
          "text": [
            "Epoch 1/200\n",
            "240/240 [==============================] - 2s 3ms/step - loss: 1346.6045\n",
            "Epoch 2/200\n",
            "240/240 [==============================] - 1s 2ms/step - loss: 27.3515\n",
            "Epoch 3/200\n",
            "240/240 [==============================] - 0s 2ms/step - loss: 20.8042\n",
            "Epoch 4/200\n",
            "240/240 [==============================] - 0s 2ms/step - loss: 19.3808\n",
            "Epoch 5/200\n",
            "240/240 [==============================] - 0s 2ms/step - loss: 19.1816\n",
            "Epoch 6/200\n",
            "240/240 [==============================] - 0s 2ms/step - loss: 18.8052\n",
            "Epoch 7/200\n",
            "240/240 [==============================] - 0s 2ms/step - loss: 18.6924\n",
            "Epoch 8/200\n",
            "240/240 [==============================] - 0s 2ms/step - loss: 18.6975\n",
            "Epoch 9/200\n",
            "240/240 [==============================] - 0s 2ms/step - loss: 18.8393\n",
            "Epoch 10/200\n",
            "240/240 [==============================] - 0s 2ms/step - loss: 18.5752\n",
            "Epoch 11/200\n",
            "240/240 [==============================] - 0s 2ms/step - loss: 18.5391\n",
            "Epoch 12/200\n",
            "240/240 [==============================] - 0s 2ms/step - loss: 18.7192\n",
            "Epoch 13/200\n",
            "240/240 [==============================] - 0s 2ms/step - loss: 18.7295\n",
            "Epoch 14/200\n",
            "240/240 [==============================] - 0s 2ms/step - loss: 18.9806\n",
            "Epoch 15/200\n",
            "240/240 [==============================] - 0s 2ms/step - loss: 18.8579\n",
            "Epoch 16/200\n",
            "240/240 [==============================] - 0s 2ms/step - loss: 18.8250\n",
            "Epoch 17/200\n",
            "240/240 [==============================] - 0s 2ms/step - loss: 18.5793\n",
            "Epoch 18/200\n",
            "240/240 [==============================] - 0s 2ms/step - loss: 19.1177\n",
            "Epoch 19/200\n",
            "240/240 [==============================] - 0s 2ms/step - loss: 18.8007\n",
            "Epoch 20/200\n",
            "240/240 [==============================] - 0s 2ms/step - loss: 18.7759\n",
            "Epoch 21/200\n",
            "240/240 [==============================] - 0s 2ms/step - loss: 18.4639\n",
            "Epoch 22/200\n",
            "240/240 [==============================] - 0s 2ms/step - loss: 18.3436\n",
            "Epoch 23/200\n",
            "240/240 [==============================] - 1s 2ms/step - loss: 18.3702\n",
            "Epoch 24/200\n",
            "240/240 [==============================] - 1s 3ms/step - loss: 18.2444\n",
            "Epoch 25/200\n",
            "240/240 [==============================] - 1s 3ms/step - loss: 18.2368\n",
            "Epoch 26/200\n",
            "240/240 [==============================] - 1s 3ms/step - loss: 18.4951\n",
            "Epoch 27/200\n",
            "240/240 [==============================] - 1s 3ms/step - loss: 18.3116\n",
            "Epoch 28/200\n",
            "240/240 [==============================] - 0s 2ms/step - loss: 18.2964\n",
            "Epoch 29/200\n",
            "240/240 [==============================] - 0s 2ms/step - loss: 18.1899\n",
            "Epoch 30/200\n",
            "240/240 [==============================] - 0s 2ms/step - loss: 18.3402\n",
            "Epoch 31/200\n",
            "240/240 [==============================] - 0s 2ms/step - loss: 18.4675\n",
            "Epoch 32/200\n",
            "240/240 [==============================] - 0s 2ms/step - loss: 18.3873\n",
            "Epoch 33/200\n",
            "240/240 [==============================] - 0s 2ms/step - loss: 18.4413\n",
            "Epoch 34/200\n",
            "240/240 [==============================] - 0s 2ms/step - loss: 18.2686\n",
            "Epoch 35/200\n",
            "240/240 [==============================] - 0s 2ms/step - loss: 18.4650\n",
            "Epoch 36/200\n",
            "240/240 [==============================] - 0s 2ms/step - loss: 18.4331\n",
            "Epoch 37/200\n",
            "240/240 [==============================] - 0s 2ms/step - loss: 18.2416\n",
            "Epoch 38/200\n",
            "240/240 [==============================] - 0s 2ms/step - loss: 18.2622\n",
            "Epoch 39/200\n",
            "240/240 [==============================] - 0s 2ms/step - loss: 18.3327\n",
            "Epoch 40/200\n",
            "240/240 [==============================] - 0s 2ms/step - loss: 18.3812\n",
            "Epoch 41/200\n",
            "240/240 [==============================] - 0s 2ms/step - loss: 18.5531\n",
            "Epoch 42/200\n",
            "240/240 [==============================] - 0s 2ms/step - loss: 18.2882\n",
            "Epoch 43/200\n",
            "240/240 [==============================] - 0s 2ms/step - loss: 18.3681\n",
            "Epoch 44/200\n",
            "240/240 [==============================] - 0s 2ms/step - loss: 18.4183\n",
            "Epoch 45/200\n",
            "240/240 [==============================] - 0s 2ms/step - loss: 18.0617\n",
            "Epoch 46/200\n",
            "240/240 [==============================] - 0s 2ms/step - loss: 18.2894\n",
            "Epoch 47/200\n",
            "240/240 [==============================] - 0s 2ms/step - loss: 18.1047\n",
            "Epoch 48/200\n",
            "240/240 [==============================] - 0s 2ms/step - loss: 18.3534\n",
            "Epoch 49/200\n",
            "240/240 [==============================] - 1s 2ms/step - loss: 17.9341\n",
            "Epoch 50/200\n",
            "240/240 [==============================] - 1s 3ms/step - loss: 18.5200\n",
            "Epoch 51/200\n",
            "240/240 [==============================] - 1s 3ms/step - loss: 18.3049\n",
            "Epoch 52/200\n",
            "240/240 [==============================] - 1s 3ms/step - loss: 18.2947\n",
            "Epoch 53/200\n",
            "240/240 [==============================] - 1s 2ms/step - loss: 18.2365\n",
            "Epoch 54/200\n",
            "240/240 [==============================] - 0s 2ms/step - loss: 17.9866\n",
            "Epoch 55/200\n",
            "240/240 [==============================] - 0s 2ms/step - loss: 18.2559\n",
            "Epoch 56/200\n",
            "240/240 [==============================] - 0s 2ms/step - loss: 18.1903\n",
            "Epoch 57/200\n",
            "240/240 [==============================] - 0s 2ms/step - loss: 18.3567\n",
            "Epoch 58/200\n",
            "240/240 [==============================] - 0s 2ms/step - loss: 18.1398\n",
            "Epoch 59/200\n",
            "240/240 [==============================] - 0s 2ms/step - loss: 17.9121\n",
            "Epoch 60/200\n",
            "240/240 [==============================] - 0s 2ms/step - loss: 18.3874\n",
            "Epoch 61/200\n",
            "240/240 [==============================] - 0s 2ms/step - loss: 18.1429\n",
            "Epoch 62/200\n",
            "240/240 [==============================] - 0s 2ms/step - loss: 18.3421\n",
            "Epoch 63/200\n",
            "240/240 [==============================] - 0s 2ms/step - loss: 17.7940\n",
            "Epoch 64/200\n",
            "240/240 [==============================] - 0s 2ms/step - loss: 18.1942\n",
            "Epoch 65/200\n",
            "240/240 [==============================] - 0s 2ms/step - loss: 18.3302\n",
            "Epoch 66/200\n",
            "240/240 [==============================] - 0s 2ms/step - loss: 18.1286\n",
            "Epoch 67/200\n",
            "240/240 [==============================] - 1s 2ms/step - loss: 18.1801\n",
            "Epoch 68/200\n",
            "240/240 [==============================] - 0s 2ms/step - loss: 18.0143\n",
            "Epoch 69/200\n",
            "240/240 [==============================] - 0s 2ms/step - loss: 18.1358\n",
            "Epoch 70/200\n",
            "240/240 [==============================] - 0s 2ms/step - loss: 18.1211\n",
            "Epoch 71/200\n",
            "240/240 [==============================] - 0s 2ms/step - loss: 17.9203\n",
            "Epoch 72/200\n",
            "240/240 [==============================] - 0s 2ms/step - loss: 18.1500\n",
            "Epoch 73/200\n",
            "240/240 [==============================] - 0s 2ms/step - loss: 18.0711\n",
            "Epoch 74/200\n",
            "240/240 [==============================] - 1s 2ms/step - loss: 17.9898\n",
            "Epoch 75/200\n",
            "240/240 [==============================] - 1s 3ms/step - loss: 18.1547\n",
            "Epoch 76/200\n",
            "240/240 [==============================] - 1s 3ms/step - loss: 18.3263\n",
            "Epoch 77/200\n",
            "240/240 [==============================] - 1s 3ms/step - loss: 17.8318\n",
            "Epoch 78/200\n",
            "240/240 [==============================] - 1s 2ms/step - loss: 18.0713\n",
            "Epoch 79/200\n",
            "240/240 [==============================] - 0s 2ms/step - loss: 18.2793\n",
            "Epoch 80/200\n",
            "240/240 [==============================] - 0s 2ms/step - loss: 17.9196\n",
            "Epoch 81/200\n",
            "240/240 [==============================] - 0s 2ms/step - loss: 18.0878\n",
            "Epoch 82/200\n",
            "240/240 [==============================] - 0s 2ms/step - loss: 18.1182\n",
            "Epoch 83/200\n",
            "240/240 [==============================] - 0s 2ms/step - loss: 18.0606\n",
            "Epoch 84/200\n",
            "240/240 [==============================] - 0s 2ms/step - loss: 18.3987\n",
            "Epoch 85/200\n",
            "240/240 [==============================] - 0s 2ms/step - loss: 18.2215\n",
            "Epoch 86/200\n",
            "240/240 [==============================] - 0s 2ms/step - loss: 18.0115\n",
            "Epoch 87/200\n",
            "240/240 [==============================] - 1s 2ms/step - loss: 17.9359\n",
            "Epoch 88/200\n",
            "240/240 [==============================] - 0s 2ms/step - loss: 18.1424\n",
            "Epoch 89/200\n",
            "240/240 [==============================] - 0s 2ms/step - loss: 18.0810\n",
            "Epoch 90/200\n",
            "240/240 [==============================] - 0s 2ms/step - loss: 17.9790\n",
            "Epoch 91/200\n",
            "240/240 [==============================] - 0s 2ms/step - loss: 18.0033\n",
            "Epoch 92/200\n",
            "240/240 [==============================] - 0s 2ms/step - loss: 18.0096\n",
            "Epoch 93/200\n",
            "240/240 [==============================] - 0s 2ms/step - loss: 17.9144\n",
            "Epoch 94/200\n",
            "240/240 [==============================] - 0s 2ms/step - loss: 17.8869\n",
            "Epoch 95/200\n",
            "240/240 [==============================] - 0s 2ms/step - loss: 17.9665\n",
            "Epoch 96/200\n",
            "240/240 [==============================] - 0s 2ms/step - loss: 17.8794\n",
            "Epoch 97/200\n",
            "240/240 [==============================] - 0s 2ms/step - loss: 17.9216\n",
            "Epoch 98/200\n",
            "240/240 [==============================] - 0s 2ms/step - loss: 18.0235\n",
            "Epoch 99/200\n",
            "240/240 [==============================] - 1s 2ms/step - loss: 17.9155\n",
            "Epoch 100/200\n",
            "240/240 [==============================] - 1s 3ms/step - loss: 18.1280\n",
            "Epoch 101/200\n",
            "240/240 [==============================] - 1s 3ms/step - loss: 18.0492\n",
            "Epoch 102/200\n",
            "240/240 [==============================] - 1s 3ms/step - loss: 18.0836\n",
            "Epoch 103/200\n",
            "240/240 [==============================] - 1s 3ms/step - loss: 17.7510\n",
            "Epoch 104/200\n",
            "240/240 [==============================] - 0s 2ms/step - loss: 17.7703\n",
            "Epoch 105/200\n",
            "240/240 [==============================] - 0s 2ms/step - loss: 17.7621\n",
            "Epoch 106/200\n",
            "240/240 [==============================] - 1s 2ms/step - loss: 18.0755\n",
            "Epoch 107/200\n",
            "240/240 [==============================] - 0s 2ms/step - loss: 17.9146\n",
            "Epoch 108/200\n",
            "240/240 [==============================] - 0s 2ms/step - loss: 17.7061\n",
            "Epoch 109/200\n",
            "240/240 [==============================] - 0s 2ms/step - loss: 17.9387\n",
            "Epoch 110/200\n",
            "240/240 [==============================] - 0s 2ms/step - loss: 17.9154\n",
            "Epoch 111/200\n",
            "240/240 [==============================] - 0s 2ms/step - loss: 18.0628\n",
            "Epoch 112/200\n",
            "240/240 [==============================] - 0s 2ms/step - loss: 17.9927\n",
            "Epoch 113/200\n",
            "240/240 [==============================] - 0s 2ms/step - loss: 18.1183\n",
            "Epoch 114/200\n",
            "240/240 [==============================] - 0s 2ms/step - loss: 17.6662\n",
            "Epoch 115/200\n",
            "240/240 [==============================] - 0s 2ms/step - loss: 17.8882\n",
            "Epoch 116/200\n",
            "240/240 [==============================] - 0s 2ms/step - loss: 17.8612\n",
            "Epoch 117/200\n",
            "240/240 [==============================] - 0s 2ms/step - loss: 17.8754\n",
            "Epoch 118/200\n",
            "240/240 [==============================] - 0s 2ms/step - loss: 17.9333\n",
            "Epoch 119/200\n",
            "240/240 [==============================] - 0s 2ms/step - loss: 18.0876\n",
            "Epoch 120/200\n",
            "240/240 [==============================] - 0s 2ms/step - loss: 17.8719\n",
            "Epoch 121/200\n",
            "240/240 [==============================] - 0s 2ms/step - loss: 17.9326\n",
            "Epoch 122/200\n",
            "240/240 [==============================] - 0s 2ms/step - loss: 17.9605\n",
            "Epoch 123/200\n",
            "240/240 [==============================] - 0s 2ms/step - loss: 17.6698\n",
            "Epoch 124/200\n",
            "240/240 [==============================] - 1s 2ms/step - loss: 18.1730\n",
            "Epoch 125/200\n",
            "240/240 [==============================] - 1s 4ms/step - loss: 18.0175\n",
            "Epoch 126/200\n",
            "240/240 [==============================] - 1s 4ms/step - loss: 17.9283\n",
            "Epoch 127/200\n",
            "240/240 [==============================] - 1s 3ms/step - loss: 17.7908\n",
            "Epoch 128/200\n",
            "240/240 [==============================] - 1s 2ms/step - loss: 17.8223\n",
            "Epoch 129/200\n",
            "240/240 [==============================] - 0s 2ms/step - loss: 17.8822\n",
            "Epoch 130/200\n",
            "240/240 [==============================] - 0s 2ms/step - loss: 18.1968\n",
            "Epoch 131/200\n",
            "240/240 [==============================] - 0s 2ms/step - loss: 18.0414\n",
            "Epoch 132/200\n",
            "240/240 [==============================] - 0s 2ms/step - loss: 17.8709\n",
            "Epoch 133/200\n",
            "240/240 [==============================] - 0s 2ms/step - loss: 17.8710\n",
            "Epoch 134/200\n",
            "240/240 [==============================] - 0s 2ms/step - loss: 18.2474\n",
            "Epoch 135/200\n",
            "240/240 [==============================] - 0s 2ms/step - loss: 17.7794\n",
            "Epoch 136/200\n",
            "240/240 [==============================] - 0s 2ms/step - loss: 18.1933\n",
            "Epoch 137/200\n",
            "240/240 [==============================] - 0s 2ms/step - loss: 17.8996\n",
            "Epoch 138/200\n",
            "240/240 [==============================] - 0s 2ms/step - loss: 17.9307\n",
            "Epoch 139/200\n",
            "240/240 [==============================] - 0s 2ms/step - loss: 17.6300\n",
            "Epoch 140/200\n",
            "240/240 [==============================] - 0s 2ms/step - loss: 17.8385\n",
            "Epoch 141/200\n",
            "240/240 [==============================] - 0s 2ms/step - loss: 17.8342\n",
            "Epoch 142/200\n",
            "240/240 [==============================] - 0s 2ms/step - loss: 17.9621\n",
            "Epoch 143/200\n",
            "240/240 [==============================] - 0s 2ms/step - loss: 18.0674\n",
            "Epoch 144/200\n",
            "240/240 [==============================] - 0s 2ms/step - loss: 17.8474\n",
            "Epoch 145/200\n",
            "240/240 [==============================] - 1s 2ms/step - loss: 17.8594\n",
            "Epoch 146/200\n",
            "240/240 [==============================] - 0s 2ms/step - loss: 17.8030\n",
            "Epoch 147/200\n",
            "240/240 [==============================] - 1s 2ms/step - loss: 17.7369\n",
            "Epoch 148/200\n",
            "240/240 [==============================] - 1s 2ms/step - loss: 17.8766\n",
            "Epoch 149/200\n",
            "240/240 [==============================] - 1s 3ms/step - loss: 17.7802\n",
            "Epoch 150/200\n",
            "240/240 [==============================] - 1s 3ms/step - loss: 17.7947\n",
            "Epoch 151/200\n",
            "240/240 [==============================] - 1s 3ms/step - loss: 17.9357\n",
            "Epoch 152/200\n",
            "240/240 [==============================] - 1s 3ms/step - loss: 17.8723\n",
            "Epoch 153/200\n",
            "240/240 [==============================] - 1s 2ms/step - loss: 17.7520\n",
            "Epoch 154/200\n",
            "240/240 [==============================] - 0s 2ms/step - loss: 17.7056\n",
            "Epoch 155/200\n",
            "240/240 [==============================] - 0s 2ms/step - loss: 17.9260\n",
            "Epoch 156/200\n",
            "240/240 [==============================] - 0s 2ms/step - loss: 17.8097\n",
            "Epoch 157/200\n",
            "240/240 [==============================] - 0s 2ms/step - loss: 17.8327\n",
            "Epoch 158/200\n",
            "240/240 [==============================] - 1s 2ms/step - loss: 17.9223\n",
            "Epoch 159/200\n",
            "240/240 [==============================] - 0s 2ms/step - loss: 18.0103\n",
            "Epoch 160/200\n",
            "240/240 [==============================] - 0s 2ms/step - loss: 17.9998\n",
            "Epoch 161/200\n",
            "240/240 [==============================] - 0s 2ms/step - loss: 17.6908\n",
            "Epoch 162/200\n",
            "240/240 [==============================] - 0s 2ms/step - loss: 17.8250\n",
            "Epoch 163/200\n",
            "240/240 [==============================] - 0s 2ms/step - loss: 17.8788\n",
            "Epoch 164/200\n",
            "240/240 [==============================] - 0s 2ms/step - loss: 17.8636\n",
            "Epoch 165/200\n",
            "240/240 [==============================] - 0s 2ms/step - loss: 17.9937\n",
            "Epoch 166/200\n",
            "240/240 [==============================] - 1s 2ms/step - loss: 17.5285\n",
            "Epoch 167/200\n",
            "240/240 [==============================] - 0s 2ms/step - loss: 18.3018\n",
            "Epoch 168/200\n",
            "240/240 [==============================] - 1s 2ms/step - loss: 17.8322\n",
            "Epoch 169/200\n",
            "240/240 [==============================] - 0s 2ms/step - loss: 17.9215\n",
            "Epoch 170/200\n",
            "240/240 [==============================] - 0s 2ms/step - loss: 17.7890\n",
            "Epoch 171/200\n",
            "240/240 [==============================] - 0s 2ms/step - loss: 17.8854\n",
            "Epoch 172/200\n",
            "240/240 [==============================] - 0s 2ms/step - loss: 17.6264\n",
            "Epoch 173/200\n",
            "240/240 [==============================] - 0s 2ms/step - loss: 17.7541\n",
            "Epoch 174/200\n",
            "240/240 [==============================] - 1s 3ms/step - loss: 17.8790\n",
            "Epoch 175/200\n",
            "240/240 [==============================] - 1s 3ms/step - loss: 18.1182\n",
            "Epoch 176/200\n",
            "240/240 [==============================] - 1s 3ms/step - loss: 17.9967\n",
            "Epoch 177/200\n",
            "240/240 [==============================] - 1s 3ms/step - loss: 18.1650\n",
            "Epoch 178/200\n",
            "240/240 [==============================] - 1s 2ms/step - loss: 17.5450\n",
            "Epoch 179/200\n",
            "240/240 [==============================] - 0s 2ms/step - loss: 17.9526\n",
            "Epoch 180/200\n",
            "240/240 [==============================] - 0s 2ms/step - loss: 17.8387\n",
            "Epoch 181/200\n",
            "240/240 [==============================] - 0s 2ms/step - loss: 17.9070\n",
            "Epoch 182/200\n",
            "240/240 [==============================] - 0s 2ms/step - loss: 17.7885\n",
            "Epoch 183/200\n",
            "240/240 [==============================] - 0s 2ms/step - loss: 17.6070\n",
            "Epoch 184/200\n",
            "240/240 [==============================] - 0s 2ms/step - loss: 17.7007\n",
            "Epoch 185/200\n",
            "240/240 [==============================] - 1s 2ms/step - loss: 17.9469\n",
            "Epoch 186/200\n",
            "240/240 [==============================] - 0s 2ms/step - loss: 17.8196\n",
            "Epoch 187/200\n",
            "240/240 [==============================] - 0s 2ms/step - loss: 17.8190\n",
            "Epoch 188/200\n",
            "240/240 [==============================] - 0s 2ms/step - loss: 17.6771\n",
            "Epoch 189/200\n",
            "240/240 [==============================] - 0s 2ms/step - loss: 17.8964\n",
            "Epoch 190/200\n",
            "240/240 [==============================] - 0s 2ms/step - loss: 17.6690\n",
            "Epoch 191/200\n",
            "240/240 [==============================] - 0s 2ms/step - loss: 17.8986\n",
            "Epoch 192/200\n",
            "240/240 [==============================] - 0s 2ms/step - loss: 17.7937\n",
            "Epoch 193/200\n",
            "240/240 [==============================] - 0s 2ms/step - loss: 17.7869\n",
            "Epoch 194/200\n",
            "240/240 [==============================] - 0s 2ms/step - loss: 17.6457\n",
            "Epoch 195/200\n",
            "240/240 [==============================] - 1s 2ms/step - loss: 17.7063\n",
            "Epoch 196/200\n",
            "240/240 [==============================] - 0s 2ms/step - loss: 17.3628\n",
            "Epoch 197/200\n",
            "240/240 [==============================] - 0s 2ms/step - loss: 17.7181\n",
            "Epoch 198/200\n",
            "240/240 [==============================] - 0s 2ms/step - loss: 17.9874\n",
            "Epoch 199/200\n",
            "240/240 [==============================] - 1s 3ms/step - loss: 17.6181\n",
            "Epoch 200/200\n",
            "240/240 [==============================] - 1s 3ms/step - loss: 17.5843\n"
          ]
        }
      ],
      "source": [
        "epochs = 200\n",
        "history = model.fit(X_train, y_train, batch_size=32, epochs=epochs, verbose=1)\n"
      ]
    },
    {
      "cell_type": "code",
      "execution_count": 12,
      "metadata": {
        "colab": {
          "base_uri": "https://localhost:8080/",
          "height": 296
        },
        "id": "3Ikp85fUJb-S",
        "outputId": "96797ba0-3642-40fd-b64e-d4656c46dc93"
      },
      "outputs": [
        {
          "data": {
            "image/png": "[encoded data removed]",
            "text/plain": [
              "<Figure size 432x288 with 1 Axes>"
            ]
          },
          "metadata": {
            "needs_background": "light"
          },
          "output_type": "display_data"
        }
      ],
      "source": [
        "plt.plot(history.history['loss'])\n",
        "plt.title('Convergence Plot')\n",
        "plt.xlabel('Epoch')\n",
        "plt.ylabel('Loss')\n",
        "plt.show()"
      ]
    },
    {
      "cell_type": "code",
      "execution_count": 13,
      "metadata": {
        "colab": {
          "base_uri": "https://localhost:8080/"
        },
        "id": "Qx6c0-uplQxr",
        "outputId": "674c3dea-431c-4e79-95ee-6c2fdc555117"
      },
      "outputs": [
        {
          "name": "stdout",
          "output_type": "stream",
          "text": [
            "60/60 [==============================] - 0s 3ms/step\n",
            "RMSE 4.148595074458042\n",
            "R-squared score: 0.9425904398093867\n"
          ]
        }
      ],
      "source": [
        "y_pred = model.predict(X_test)\n",
        "mse = mean_squared_error(y_test, y_pred)\n",
        "r2 = r2_score(y_test, y_pred)\n",
        "print(\"RMSE\", np.sqrt(mse) )\n",
        "print(\"R-squared score:\", r2)"
      ]
    },
    {
      "cell_type": "code",
      "execution_count": 14,
      "metadata": {
        "colab": {
          "base_uri": "https://localhost:8080/",
          "height": 296
        },
        "id": "s_qwsNrtlc-K",
        "outputId": "97bc8cfc-3d15-4444-f969-e473cda708cc"
      },
      "outputs": [
        {
          "data": {
            "image/png": "[encoded data removed]",
            "text/plain": [
              "<Figure size 432x288 with 1 Axes>"
            ]
          },
          "metadata": {
            "needs_background": "light"
          },
          "output_type": "display_data"
        }
      ],
      "source": [
        "plt.scatter(y_test, y_pred)\n",
        "plt.xlabel(\"Actual values\")\n",
        "plt.ylabel(\"Predicted values\")\n",
        "plt.title(\"Actual vs. predicted values\")\n",
        "plt.show()\n"
      ]
    },
    {
      "cell_type": "code",
      "execution_count": 15,
      "metadata": {
        "colab": {
          "base_uri": "https://localhost:8080/",
          "height": 270
        },
        "id": "FhQkjiccmhbQ",
        "outputId": "ac46a349-4a29-4770-e157-95f3db87ee63"
      },
      "outputs": [
        {
          "data": {
            "image/png": "[encoded data removed]",
            "text/plain": [
              "<Figure size 432x288 with 1 Axes>"
            ]
          },
          "metadata": {
            "needs_background": "light"
          },
          "output_type": "display_data"
        }
      ],
      "source": [
        "weights = model.get_weights()\n",
        "W1 = weights[0]\n",
        "importance = np.abs(W1).sum(axis=1)\n",
        "\n",
        "# Plot feature importance\n",
        "plt.bar(range(X.shape[1]), importance)\n",
        "plt.xticks([0, 1, 2, 3], ['AT', 'V', 'AP', 'RH'], rotation=90)  \n",
        "plt.show()"
      ]
    },
    {
      "cell_type": "code",
      "execution_count": 16,
      "metadata": {
        "colab": {
          "base_uri": "https://localhost:8080/"
        },
        "id": "aH0szhFLDgLA",
        "outputId": "aca79da9-7256-4815-b024-cbe6751460dd"
      },
      "outputs": [
        {
          "name": "stdout",
          "output_type": "stream",
          "text": [
            "[458.96 463.29 435.27 484.31 473.55 456.3  436.02 488.75 469.75 482.83]\n",
            "[[464.8  438.49 485.84 480.43 451.08 438.64 482.84 469.6  485.14]]\n"
          ]
        }
      ],
      "source": [
        "print(y_test.values[:10])\n",
        "print(np.round(y_pred[1:10].T,2))"
      ]
    },
    {
      "cell_type": "code",
      "execution_count": 17,
      "metadata": {
        "colab": {
          "base_uri": "https://localhost:8080/",
          "height": 265
        },
        "id": "S-afwxE6l7Ok",
        "outputId": "01f9a61a-2f26-40fa-ccad-dc6e80e7dada"
      },
      "outputs": [
        {
          "data": {
            "image/png": "[encoded data removed]",
            "text/plain": [
              "<Figure size 432x288 with 1 Axes>"
            ]
          },
          "metadata": {
            "needs_background": "light"
          },
          "output_type": "display_data"
        }
      ],
      "source": [
        "plt.plot(y_test.values[:100])\n",
        "plt.plot(y_pred[1:100])\n",
        "plt.show()"
      ]
    },
    {
      "cell_type": "code",
      "execution_count": 19,
      "metadata": {
        "colab": {
          "base_uri": "https://localhost:8080/"
        },
        "id": "ADV_dKD1rM0q",
        "outputId": "fab89df6-a5fa-4291-d204-222963354f2c"
      },
      "outputs": [
        {
          "data": {
            "text/plain": [
              "4.508879190536166"
            ]
          },
          "execution_count": 19,
          "metadata": {},
          "output_type": "execute_result"
        }
      ],
      "source": [
        "from sklearn.linear_model import LinearRegression\n",
        "from sklearn.metrics import mean_squared_error\n",
        "lr = LinearRegression()\n",
        "lr.fit(X_train,y_train)\n",
        "y_predLR = lr.predict(X_test)\n",
        "\n",
        "mse=mean_squared_error(y_test.values,y_predLR)\n",
        "np.sqrt(mse)"
      ]
    }
  ],
  "metadata": {
    "colab": {
      "provenance": []
    },
    "kernelspec": {
      "display_name": "Python 3",
      "name": "python3"
    },
    "language_info": {
      "codemirror_mode": {
        "name": "ipython",
        "version": 3
      },
      "file_extension": ".py",
      "mimetype": "text/x-python",
      "name": "python",
      "nbconvert_exporter": "python",
      "pygments_lexer": "ipython3",
      "version": "3.11.2"
    }
  },
  "nbformat": 4,
  "nbformat_minor": 0
}
