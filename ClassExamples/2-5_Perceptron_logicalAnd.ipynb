{
  "cells": [
    {
      "cell_type": "code",
      "execution_count": 1,
      "metadata": {
        "colab": {
          "base_uri": "https://localhost:8080/"
        },
        "id": "aitdG2PRfN6r",
        "outputId": "ae874a52-1943-44cc-b4c4-02533545c1b3"
      },
      "outputs": [
        {
          "name": "stdout",
          "output_type": "stream",
          "text": [
            "0 AND 0 -> 0\n",
            "1 AND 0 -> 0\n",
            "0 AND 1 -> 0\n",
            "1 AND 1 -> 1\n"
          ]
        }
      ],
      "source": [
        "import numpy\n",
        "\n",
        "b = 1\n",
        "w = list()\n",
        "def unitStep(v):\n",
        "    if v > 0:\n",
        "        return 1\n",
        "    else:\n",
        "        return 0\n",
        "w=[0,0,0]\n",
        "def myPerceptron(x1,x2,T):\n",
        "    yhat = unitStep(b*w[0]+x1*w[1]+x2*w[2])\n",
        "    err = T - yhat\n",
        "    w[0] += err*b\n",
        "    w[1] += err*x1\n",
        "    w[2] += err*x2\n",
        "for i in range(100):    \n",
        "    myPerceptron(0,0,0)     \n",
        "    myPerceptron(1,1,1)\n",
        "    myPerceptron(1,0,0)\n",
        "    myPerceptron(0,1,0)\n",
        "for x1,x2 in [(0,0),(1,0),(0,1),(1,1)]:\n",
        "    yhat = unitStep(b*w[0]+x1*w[1]+x2*w[2])\n",
        "    print (x1,\"AND\",x2,\"->\",yhat)"
      ]
    },
    {
      "cell_type": "code",
      "execution_count": 4,
      "metadata": {
        "colab": {
          "base_uri": "https://localhost:8080/"
        },
        "id": "QcDF3etHfiGx",
        "outputId": "dfc0a7f4-b0d6-44fa-90b1-e911b96fd6e7"
      },
      "outputs": [
        {
          "name": "stdout",
          "output_type": "stream",
          "text": [
            "[-2, 1, 2]\n"
          ]
        }
      ],
      "source": [
        "print(w)"
      ]
    },
    {
      "cell_type": "code",
      "execution_count": 5,
      "metadata": {},
      "outputs": [
        {
          "name": "stdout",
          "output_type": "stream",
          "text": [
            "0 AND 0 -> 0\n",
            "1 AND 0 -> 0\n",
            "0 AND 1 -> 0\n",
            "1 AND 1 -> 1\n"
          ]
        }
      ],
      "source": [
        "import numpy\n",
        "\n",
        "b = 1\n",
        "w = list()\n",
        "def unitStep(v):\n",
        "    if v > 0:\n",
        "        return 1\n",
        "    else:\n",
        "        return 0\n",
        "w=[-1.5,1,1]\n",
        "for x1,x2 in [(0,0),(1,0),(0,1),(1,1)]:\n",
        "    yhat = unitStep(b*w[0]+x1*w[1]+x2*w[2])\n",
        "    print (x1,\"AND\",x2,\"->\",yhat)"
      ]
    },
    {
      "cell_type": "code",
      "execution_count": 8,
      "metadata": {},
      "outputs": [
        {
          "name": "stdout",
          "output_type": "stream",
          "text": [
            "0 OR 0 -> 0\n",
            "1 OR 0 -> 1\n",
            "0 OR 1 -> 1\n",
            "1 OR 1 -> 1\n"
          ]
        }
      ],
      "source": [
        "import numpy\n",
        "\n",
        "b = 1\n",
        "w = list()\n",
        "def unitStep(v):\n",
        "    if v > 0:\n",
        "        return 1\n",
        "    else:\n",
        "        return 0\n",
        "w=[0,1,1]\n",
        "for x1,x2 in [(0,0),(1,0),(0,1),(1,1)]:\n",
        "    yhat = unitStep(b*w[0]+x1*w[1]+x2*w[2])\n",
        "    print (x1,\"OR\",x2,\"->\",yhat)"
      ]
    }
  ],
  "metadata": {
    "colab": {
      "provenance": []
    },
    "kernelspec": {
      "display_name": "Python 3",
      "name": "python3"
    },
    "language_info": {
      "codemirror_mode": {
        "name": "ipython",
        "version": 3
      },
      "file_extension": ".py",
      "mimetype": "text/x-python",
      "name": "python",
      "nbconvert_exporter": "python",
      "pygments_lexer": "ipython3",
      "version": "3.11.2"
    }
  },
  "nbformat": 4,
  "nbformat_minor": 0
}
