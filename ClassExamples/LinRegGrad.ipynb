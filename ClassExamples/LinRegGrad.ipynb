{
  "nbformat": 4,
  "nbformat_minor": 0,
  "metadata": {
    "colab": {
      "provenance": []
    },
    "kernelspec": {
      "name": "python3",
      "display_name": "Python 3"
    },
    "language_info": {
      "name": "python"
    }
  },
  "cells": [
    {
      "cell_type": "code",
      "source": [
        "def costFunction(x, y, theta0, theta1):\n",
        "   \n",
        "    n = len(x)\n",
        "    tCost = 0\n",
        "    \n",
        "    for i in range(n):\n",
        "        yhat = theta1 * x[i] + theta0\n",
        "        tCost = tCost + (yhat - y[i])**2\n",
        "    cost = 1 / (2 * n) * tCost\n",
        "\n",
        "    return cost"
      ],
      "metadata": {
        "id": "r78Yff9ud22E"
      },
      "execution_count": 51,
      "outputs": []
    },
    {
      "cell_type": "code",
      "execution_count": 52,
      "metadata": {
        "colab": {
          "base_uri": "https://localhost:8080/",
          "height": 316
        },
        "id": "PPQgjt8-Zq22",
        "outputId": "af4b22ef-aa52-4a53-8b1e-093c05ba7ca7"
      },
      "outputs": [
        {
          "output_type": "stream",
          "name": "stdout",
          "text": [
            "18.963285531542834\n",
            "29.59237576807377\n",
            "92.94422495172726\n"
          ]
        },
        {
          "output_type": "display_data",
          "data": {
            "text/plain": [
              "<Figure size 432x288 with 1 Axes>"
            ],
            "image/png": "[encoded data removed]"
          },
          "metadata": {
            "needs_background": "light"
          }
        }
      ],
      "source": [
        "import numpy as np\n",
        "from scipy import sparse\n",
        "import matplotlib.pyplot as plt\n",
        "import pandas as pd\n",
        "\n",
        "X_train=np.array([1, 2, 3,4,4,5,6])\n",
        "Y_train=np.array([40, 80, 130,140,150,170,173])\n",
        "N=len(X_train)\n",
        "\n",
        "#Initializations\n",
        "theta0 = 0\n",
        "theta1 = 0\n",
        "iter=500\n",
        "errs = []\n",
        "eta=0.01\n",
        "\n",
        "for j in range(iter):\n",
        "  \n",
        "  t0Grad=0\n",
        "  t1Grad=0\n",
        "  for i in range(N):  \n",
        "    yhat = theta1 * X_train[i] + theta0 \n",
        "    t0Grad= t0Grad+ (yhat-Y_train[i])\n",
        "    t1Grad= t1Grad+ (yhat-Y_train[i])*X_train[i]\n",
        "         \n",
        "  t0Grad = t0Grad / N \n",
        "  t1Grad = t1Grad / N  \n",
        "  errs.append(costFunction(X_train, Y_train, theta0, theta1))\n",
        "  theta0 = theta0 - eta * t0Grad                            \n",
        "  theta1 = theta1 - eta * t1Grad      \n",
        "     \n",
        "print(theta0)\n",
        "print(theta1)\n",
        "print(theta0+theta1*2.5)\n",
        "\n",
        "\n",
        "plt.plot(errs)\n",
        "\n",
        "plt.show()"
      ]
    }
  ]
}